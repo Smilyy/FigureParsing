{
 "cells": [
  {
   "cell_type": "code",
   "execution_count": 8,
   "id": "7e8eb2ab-e3fd-456e-b79f-e5e3896468db",
   "metadata": {},
   "outputs": [],
   "source": [
    "import easyocr\n",
    "import cv2\n",
    "import matplotlib.pyplot as plt\n",
    "import json\n",
    "import os\n",
    "from pathlib import Path\n",
    "from tqdm import tqdm"
   ]
  },
  {
   "cell_type": "code",
   "execution_count": 9,
   "id": "3fabfb62-6e68-46a5-91fe-88f4da98847a",
   "metadata": {},
   "outputs": [],
   "source": [
    "# Load and display the source image\n",
    "img_path = './data/test_1.jpg'\n",
    "image = cv2.imread(img_path)\n",
    "image_rgb = cv2.cvtColor(image, cv2.COLOR_BGR2RGB)\n",
    "\n",
    "plt.imshow(image_rgb)\n",
    "plt.axis('off')\n",
    "plt.title('Original Image')\n",
    "plt.show()"
   ]
  },
  {
   "cell_type": "code",
   "execution_count": 15,
   "id": "c6117f2a-c31a-4e96-bab6-4850431a91d8",
   "metadata": {},
   "outputs": [],
   "source": [
    "def extract_game_data(image_path):\n",
    "    # Initialize OCR reader\n",
    "    reader = easyocr.Reader(['en'], gpu=False)\n",
    "    image = cv2.imread(image_path)\n",
    "    image_rgb = cv2.cvtColor(image, cv2.COLOR_BGR2RGB)\n",
    "        \n",
    "    # Initialize easy_ocr, and only record information with a confidence > 60% accuracy.\n",
    "    results = reader.readtext(image_rgb)\n",
    "    texts = [text for (_, text, prob) in results if prob > 0.6]\n",
    "    \n",
    "    # Extract match result and score\n",
    "    try:\n",
    "        result_index = texts.index(\"You Lost\")\n",
    "        result = \"You Lost\"\n",
    "        score = f\"{texts[result_index + 1]} : {texts[result_index + 2]}\"\n",
    "    except:\n",
    "        result = \"Unknown\"\n",
    "        score = \"?\"\n",
    "    \n",
    "    # Group words into rows: [name, score1, score2, score3, score4]\n",
    "    structured_rows = []\n",
    "    temp_row = []\n",
    "\n",
    "    for item in texts:\n",
    "        if item.lower() in [\"total\", \"score\", \"objective\", \"support\", \"offense\", \"mute\", \"mute all\"]:\n",
    "            continue\n",
    "        if item.replace('_', '').isalnum() and not item.isdigit():\n",
    "            if temp_row:\n",
    "                structured_rows.append(temp_row)\n",
    "                temp_row = []\n",
    "            temp_row = [item]\n",
    "        elif item.isdigit():\n",
    "            temp_row.append(int(item))\n",
    "            if len(temp_row) == 5:\n",
    "                structured_rows.append(temp_row)\n",
    "                temp_row = []\n",
    "\n",
    "    # assign teams\n",
    "    teams = {}\n",
    "    current_team = None\n",
    "\n",
    "    for row in structured_rows:\n",
    "        if len(row) == 1 and isinstance(row[0], str):\n",
    "            current_team = row[0]\n",
    "            teams[current_team] = []\n",
    "        elif len(row) == 5 and current_team:\n",
    "            player_data = {\n",
    "                \"Name\": row[0],\n",
    "                \"Score\": row[1],\n",
    "                \"Objective Score\": row[2],\n",
    "                \"Offense Score\": row[3],\n",
    "                \"Support Score\": row[4],\n",
    "            }\n",
    "            teams[current_team].append(player_data)\n",
    "\n",
    "    # make the result into JSON\n",
    "    return {\n",
    "        \"result\": result,\n",
    "        \"score\": score,\n",
    "        \"teams\": teams\n",
    "    }"
   ]
  },
  {
   "cell_type": "code",
   "execution_count": 16,
   "id": "33397c31-7396-404e-b365-05d06dffc185",
   "metadata": {},
   "outputs": [],
   "source": [
    "# # Test a sample picture\n",
    "# game_data = extract_game_data('./data/test_1.jpg')\n",
    "# print(json.dumps(game_data, indent=2))"
   ]
  },
  {
   "cell_type": "code",
   "execution_count": 17,
   "id": "ed1e34f6-f176-42fe-ba16-6b6c60b4017d",
   "metadata": {},
   "outputs": [],
   "source": [
    "# def process_all_game_images(base_dir='./data', output_json='./results/game_summary_all.json'):\n",
    "#     image_paths = list(Path(base_dir).rglob(\"*.png\")) + list(Path(base_dir).rglob(\"*.jpg\"))\n",
    "#     print(f\"Found {len(image_paths)} images\")\n",
    "\n",
    "# process_all_game_images()"
   ]
  },
  {
   "cell_type": "code",
   "execution_count": 18,
   "id": "aabff03c-92bc-455b-b980-f75979a61e7d",
   "metadata": {},
   "outputs": [],
   "source": [
    "def process_all_game_images(base_dir='./data', output_json='./results/game_summary_all.json'):\n",
    "    image_paths = list(Path(base_dir).rglob(\"*.png\")) + list(Path(base_dir).rglob(\"*.jpg\"))\n",
    "    print(f\"Found {len(image_paths)} images\")\n",
    "    all_data = []\n",
    "    for image_path in tqdm(image_paths):\n",
    "        try:\n",
    "            game_data = extract_game_data(str(image_path))\n",
    "            all_data.append(game_data)\n",
    "        except Exception as e:\n",
    "            print(f\"Failed to process {image_path}: {e}\")\n",
    "\n",
    "    with open(output_json, 'w', encoding='utf-8') as f:\n",
    "        json.dump(all_data, f, indent=2, ensure_ascii=False)\n",
    "\n",
    "    print(f\"All data saved to {output_json}\")"
   ]
  },
  {
   "cell_type": "code",
   "execution_count": 19,
   "id": "ecdb7256-3ac1-41e2-84eb-5e08a20900ac",
   "metadata": {},
   "outputs": [
    {
     "name": "stdout",
     "output_type": "stream",
     "text": [
      "Found 40 images\n"
     ]
    },
    {
     "name": "stderr",
     "output_type": "stream",
     "text": [
      "  0%|                                                    | 0/40 [00:00<?, ?it/s]Using CPU. Note: This module is much faster with a GPU.\n",
      "/mnt/data2/cv/lib/python3.10/site-packages/torch/utils/data/dataloader.py:665: UserWarning: 'pin_memory' argument is set as true but no accelerator is found, then device pinned memory won't be used.\n",
      "  warnings.warn(warn_msg)\n",
      "  2%|█                                           | 1/40 [00:09<05:55,  9.12s/it]Using CPU. Note: This module is much faster with a GPU.\n",
      "  5%|██▏                                         | 2/40 [00:18<05:55,  9.35s/it]Using CPU. Note: This module is much faster with a GPU.\n",
      "  8%|███▎                                        | 3/40 [00:27<05:43,  9.29s/it]Using CPU. Note: This module is much faster with a GPU.\n",
      " 10%|████▍                                       | 4/40 [00:37<05:32,  9.24s/it]Using CPU. Note: This module is much faster with a GPU.\n",
      " 12%|█████▌                                      | 5/40 [00:46<05:23,  9.23s/it]Using CPU. Note: This module is much faster with a GPU.\n",
      " 15%|██████▌                                     | 6/40 [00:55<05:13,  9.21s/it]Using CPU. Note: This module is much faster with a GPU.\n",
      " 18%|███████▋                                    | 7/40 [01:04<05:03,  9.21s/it]Using CPU. Note: This module is much faster with a GPU.\n",
      " 20%|████████▊                                   | 8/40 [01:14<04:58,  9.31s/it]Using CPU. Note: This module is much faster with a GPU.\n",
      " 22%|█████████▉                                  | 9/40 [01:23<04:45,  9.22s/it]Using CPU. Note: This module is much faster with a GPU.\n",
      " 25%|██████████▊                                | 10/40 [01:32<04:36,  9.22s/it]Using CPU. Note: This module is much faster with a GPU.\n",
      " 28%|███████████▊                               | 11/40 [01:41<04:25,  9.15s/it]Using CPU. Note: This module is much faster with a GPU.\n",
      " 30%|████████████▉                              | 12/40 [01:50<04:14,  9.08s/it]Using CPU. Note: This module is much faster with a GPU.\n",
      " 32%|█████████████▉                             | 13/40 [01:59<04:04,  9.06s/it]Using CPU. Note: This module is much faster with a GPU.\n",
      " 35%|███████████████                            | 14/40 [02:08<03:54,  9.01s/it]Using CPU. Note: This module is much faster with a GPU.\n",
      " 38%|████████████████▏                          | 15/40 [02:17<03:45,  9.00s/it]Using CPU. Note: This module is much faster with a GPU.\n",
      " 40%|█████████████████▏                         | 16/40 [02:26<03:35,  8.97s/it]Using CPU. Note: This module is much faster with a GPU.\n",
      " 42%|██████████████████▎                        | 17/40 [02:34<03:23,  8.86s/it]Using CPU. Note: This module is much faster with a GPU.\n",
      " 45%|███████████████████▎                       | 18/40 [02:43<03:14,  8.84s/it]Using CPU. Note: This module is much faster with a GPU.\n",
      " 48%|████████████████████▍                      | 19/40 [02:52<03:05,  8.85s/it]Using CPU. Note: This module is much faster with a GPU.\n",
      " 50%|█████████████████████▌                     | 20/40 [03:01<02:58,  8.92s/it]Using CPU. Note: This module is much faster with a GPU.\n",
      " 52%|██████████████████████▌                    | 21/40 [03:10<02:49,  8.94s/it]Using CPU. Note: This module is much faster with a GPU.\n",
      " 55%|███████████████████████▋                   | 22/40 [03:19<02:39,  8.85s/it]Using CPU. Note: This module is much faster with a GPU.\n",
      " 57%|████████████████████████▋                  | 23/40 [03:28<02:31,  8.89s/it]Using CPU. Note: This module is much faster with a GPU.\n",
      " 60%|█████████████████████████▊                 | 24/40 [03:37<02:25,  9.09s/it]Using CPU. Note: This module is much faster with a GPU.\n",
      " 62%|██████████████████████████▉                | 25/40 [03:47<02:18,  9.24s/it]Using CPU. Note: This module is much faster with a GPU.\n",
      " 65%|███████████████████████████▉               | 26/40 [03:55<02:07,  9.10s/it]Using CPU. Note: This module is much faster with a GPU.\n",
      " 68%|█████████████████████████████              | 27/40 [04:05<01:59,  9.17s/it]Using CPU. Note: This module is much faster with a GPU.\n",
      " 70%|██████████████████████████████             | 28/40 [04:14<01:48,  9.05s/it]Using CPU. Note: This module is much faster with a GPU.\n",
      " 72%|███████████████████████████████▏           | 29/40 [04:23<01:39,  9.07s/it]Using CPU. Note: This module is much faster with a GPU.\n",
      " 75%|████████████████████████████████▎          | 30/40 [04:33<01:32,  9.29s/it]Using CPU. Note: This module is much faster with a GPU.\n",
      " 78%|█████████████████████████████████▎         | 31/40 [04:43<01:25,  9.55s/it]Using CPU. Note: This module is much faster with a GPU.\n",
      " 80%|██████████████████████████████████▍        | 32/40 [04:53<01:18,  9.80s/it]Using CPU. Note: This module is much faster with a GPU.\n",
      " 82%|███████████████████████████████████▍       | 33/40 [05:03<01:09,  9.99s/it]Using CPU. Note: This module is much faster with a GPU.\n",
      " 85%|████████████████████████████████████▌      | 34/40 [05:14<01:00, 10.10s/it]Using CPU. Note: This module is much faster with a GPU.\n",
      " 88%|█████████████████████████████████████▋     | 35/40 [05:24<00:51, 10.21s/it]Using CPU. Note: This module is much faster with a GPU.\n",
      " 90%|██████████████████████████████████████▋    | 36/40 [05:35<00:41, 10.27s/it]Using CPU. Note: This module is much faster with a GPU.\n",
      " 92%|███████████████████████████████████████▊   | 37/40 [05:45<00:31, 10.41s/it]Using CPU. Note: This module is much faster with a GPU.\n",
      " 95%|████████████████████████████████████████▊  | 38/40 [05:57<00:21, 10.65s/it]Using CPU. Note: This module is much faster with a GPU.\n",
      " 98%|█████████████████████████████████████████▉ | 39/40 [06:07<00:10, 10.68s/it]Using CPU. Note: This module is much faster with a GPU.\n",
      "100%|███████████████████████████████████████████| 40/40 [06:18<00:00,  9.46s/it]"
     ]
    },
    {
     "name": "stdout",
     "output_type": "stream",
     "text": [
      "All data saved to ./results/game_summary_all.json\n"
     ]
    },
    {
     "name": "stderr",
     "output_type": "stream",
     "text": [
      "\n"
     ]
    }
   ],
   "source": [
    "# Run the batch processor\n",
    "if __name__ == \"__main__\":\n",
    "    process_all_game_images()"
   ]
  },
  {
   "cell_type": "code",
   "execution_count": null,
   "id": "7abb450f-bc9a-4a82-ae7c-936c3ad99d89",
   "metadata": {},
   "outputs": [],
   "source": []
  }
 ],
 "metadata": {
  "kernelspec": {
   "display_name": "Python 3 (ipykernel)",
   "language": "python",
   "name": "python3"
  },
  "language_info": {
   "codemirror_mode": {
    "name": "ipython",
    "version": 3
   },
   "file_extension": ".py",
   "mimetype": "text/x-python",
   "name": "python",
   "nbconvert_exporter": "python",
   "pygments_lexer": "ipython3",
   "version": "3.10.18"
  }
 },
 "nbformat": 4,
 "nbformat_minor": 5
}
